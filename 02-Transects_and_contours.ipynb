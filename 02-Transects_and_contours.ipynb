{
 "cells": [
  {
   "cell_type": "markdown",
   "metadata": {},
   "source": [
    "# Transect Subsetting\n",
    "In this tutorial we take a look at subsetting the model data along a transect (a custom straight line) and creating some bespoke diagnostics along it. We look at:\n",
    "\n",
    "## Create a transect subset of the example dataset\n",
    "\n",
    "Load packages and define some file paths"
   ]
  },
  {
   "cell_type": "code",
   "execution_count": null,
   "metadata": {},
   "outputs": [],
   "source": [
    "import coast\n",
    "import xarray as xr\n",
    "import matplotlib.pyplot as plt\n",
    "\n",
    "fn_nemo_dat_t = './example_files/nemo_data_T_grid.nc'\n",
    "fn_nemo_dat_u = './example_files/nemo_data_U_grid.nc'\n",
    "fn_nemo_dat_v = './example_files/nemo_data_V_grid.nc'\n",
    "fn_nemo_dom = './example_files/COAsT_example_NEMO_domain.nc'"
   ]
  },
  {
   "cell_type": "markdown",
   "metadata": {},
   "source": [
    "Load data variables that are on the NEMO t-grid"
   ]
  },
  {
   "cell_type": "code",
   "execution_count": null,
   "metadata": {},
   "outputs": [],
   "source": [
    "nemo_t = coast.NEMO( fn_data = fn_nemo_dat_t, fn_domain = fn_nemo_dom, grid_ref = 't-grid', chunks={} )"
   ]
  },
  {
   "cell_type": "markdown",
   "metadata": {},
   "source": [
    "Now create a transect between the points (54 N 15 W) and (56 N, 12 W) using the `coast.Transect_t` object. This needs to be passed the corresponding NEMO object and transect end points. The model points closest to these coordinates will be selected as the transect end points."
   ]
  },
  {
   "cell_type": "code",
   "execution_count": null,
   "metadata": {},
   "outputs": [],
   "source": [
    "tran_t = coast.Transect_t( nemo_t, (54,-15), (56,-12) )\n",
    "tran_t.data"
   ]
  },
  {
   "cell_type": "markdown",
   "metadata": {},
   "source": [
    "where `r_dim` is the dimension along the transect. It is simple to plot a scalar such as temperature along the transect:"
   ]
  },
  {
   "cell_type": "code",
   "execution_count": null,
   "metadata": {},
   "outputs": [],
   "source": [
    "temp_mean = tran_t.data.temperature.mean(dim='t_dim')\n",
    "temp_mean.plot.pcolormesh(y='depth_0', yincrease=False )"
   ]
  },
  {
   "cell_type": "markdown",
   "metadata": {},
   "source": [
    "## Flow across the transect\n",
    "With NEMO’s staggared grid, the first step is to define the transect on the f-grid so that the velocity components are between f-points. We do not need any model data on the f-grid, just the grid information, so create a nemo f-grid object"
   ]
  },
  {
   "cell_type": "code",
   "execution_count": null,
   "metadata": {},
   "outputs": [],
   "source": [
    "nemo_f = coast.NEMO( fn_domain = fn_nemo_dom, grid_ref='f-grid', chunks={} )"
   ]
  },
  {
   "cell_type": "markdown",
   "metadata": {},
   "source": [
    "and a transect on the f-grid"
   ]
  },
  {
   "cell_type": "code",
   "execution_count": null,
   "metadata": {},
   "outputs": [],
   "source": [
    "tran_f = coast.Transect_f( nemo_f, (54,-15), (56,-12) )\n",
    "tran_f.data"
   ]
  },
  {
   "cell_type": "markdown",
   "metadata": {},
   "source": [
    "We also need the i- and j-components of velocity so (lazy) load the model data on the u- and v-grid grids"
   ]
  },
  {
   "cell_type": "code",
   "execution_count": null,
   "metadata": {},
   "outputs": [],
   "source": [
    "nemo_u = coast.NEMO( fn_data = fn_nemo_dat_u, fn_domain = fn_nemo_dom, grid_ref='u-grid', chunks={} )\n",
    "nemo_v = coast.NEMO( fn_data = fn_nemo_dat_v, fn_domain = fn_nemo_dom, grid_ref='v-grid', chunks={} )"
   ]
  },
  {
   "cell_type": "markdown",
   "metadata": {},
   "source": [
    "Now we can calculate the flow across the transect with the method"
   ]
  },
  {
   "cell_type": "code",
   "execution_count": null,
   "metadata": {},
   "outputs": [],
   "source": [
    "tran_f.calc_flow_across_transect(nemo_u,nemo_v)"
   ]
  },
  {
   "cell_type": "markdown",
   "metadata": {},
   "source": [
    "The flow across the transect is stored in a new dataset where the variables are all defined at the points between f-points."
   ]
  },
  {
   "cell_type": "code",
   "execution_count": null,
   "metadata": {},
   "outputs": [],
   "source": [
    "tran_f.data_cross_tran_flow"
   ]
  },
  {
   "cell_type": "markdown",
   "metadata": {},
   "source": [
    "For example, to plot the time averaged velocity across the transect, we can plot the ‘normal_velocities’ variable"
   ]
  },
  {
   "cell_type": "code",
   "execution_count": null,
   "metadata": {},
   "outputs": [],
   "source": [
    "cross_velocity_mean = tran_f.data_cross_tran_flow.normal_velocities.mean(dim='t_dim')\n",
    "cross_velocity_mean.rolling(r_dim=2).mean().plot.pcolormesh(yincrease=False,y='depth_0',cbar_kwargs={'label': 'm/s'})"
   ]
  },
  {
   "cell_type": "markdown",
   "metadata": {},
   "source": [
    "or the volume transport across the transect, we can plot the ‘normal_transports’ variable"
   ]
  },
  {
   "cell_type": "code",
   "execution_count": null,
   "metadata": {},
   "outputs": [],
   "source": [
    "cross_transport_mean = tran_f.data_cross_tran_flow.normal_transports.mean(dim='t_dim')\n",
    "cross_transport_mean.rolling(r_dim=2).mean().plot()\n",
    "plt.ylabel('Sv')"
   ]
  }
 ],
 "metadata": {
  "kernelspec": {
   "display_name": "Python 3",
   "language": "python",
   "name": "python3"
  },
  "language_info": {
   "codemirror_mode": {
    "name": "ipython",
    "version": 3
   },
   "file_extension": ".py",
   "mimetype": "text/x-python",
   "name": "python",
   "nbconvert_exporter": "python",
   "pygments_lexer": "ipython3",
   "version": "3.8.6"
  }
 },
 "nbformat": 4,
 "nbformat_minor": 4
}
