{
 "cells": [
  {
   "cell_type": "markdown",
   "metadata": {},
   "source": [
    "# Observations\n",
    "\n",
    "COAsT currently has two observation classes: `ALTIMETRY` and `TIDEGAUGE`. Each has it's own methods and, crucially, their own data formatting requirements. Here, we take a look at both and then do some model comparison.\n",
    "\n",
    "Import packages and define files paths:"
   ]
  },
  {
   "cell_type": "code",
   "execution_count": null,
   "metadata": {},
   "outputs": [],
   "source": [
    "import coast\n",
    "import datetime\n",
    "\n",
    "fn_nemo_dat  = './example_files/COAsT_example_NEMO_data.nc'\n",
    "fn_nemo_dom  = './example_files/COAsT_example_NEMO_domain.nc'\n",
    "fn_tidegauge = './example_files/tide_gauges/dover-p012-uk-bodc'\n",
    "fn_tidegauge_mult = './example_files/tide_gauges/*'\n",
    "fn_altimetry = './example_files/COAsT_example_altimetry_data.nc'"
   ]
  },
  {
   "cell_type": "markdown",
   "metadata": {},
   "source": [
    "## Altimetry\n",
    "The `ALTIMETRY` class is for handling along-track data, especially from an altimeter instrument. By default it is set up to read along-track altimetry data from the CMEMS database.\n",
    "\n",
    "Create `ALTIMETRY` object and plot the data using `ALTIMETRY.quick_plot()`:"
   ]
  },
  {
   "cell_type": "code",
   "execution_count": null,
   "metadata": {},
   "outputs": [],
   "source": [
    "altimetry = coast.ALTIMETRY(fn_altimetry)\n",
    "altimetry.dataset"
   ]
  },
  {
   "cell_type": "markdown",
   "metadata": {},
   "source": [
    "Let's take a look at the `sla_filtered` variable using `quick_plot()`:"
   ]
  },
  {
   "cell_type": "code",
   "execution_count": null,
   "metadata": {},
   "outputs": [],
   "source": [
    "altimetry.quick_plot('sla_filtered')"
   ]
  },
  {
   "cell_type": "markdown",
   "metadata": {},
   "source": [
    "Before going any further, lets just cut out the bit of the altimetry that is over the model domain. This can be done using `altimetry.subset_indices_lonlat_box()` to find relevant indices and then isel to extract them. The data has also been thinned slightly."
   ]
  },
  {
   "cell_type": "code",
   "execution_count": null,
   "metadata": {},
   "outputs": [],
   "source": [
    "ind = altimetry.subset_indices_lonlat_box([-10,10], [45,60])\n",
    "ind = ind[::4]\n",
    "altimetry = altimetry.isel(t_dim=ind)\n",
    "altimetry.quick_plot('sla_filtered')"
   ]
  },
  {
   "cell_type": "markdown",
   "metadata": {},
   "source": [
    "## TIDEGAUGE"
   ]
  },
  {
   "cell_type": "markdown",
   "metadata": {},
   "source": [
    "The `TIDEGAUGE` class is for handling time series data, specifically at a tide gauge. By default, it is set up to read GESLA2 data. \n",
    "\n",
    "Create tidegauge object and read data between two dates:"
   ]
  },
  {
   "cell_type": "code",
   "execution_count": null,
   "metadata": {},
   "outputs": [],
   "source": [
    "date0 = datetime.datetime(2007,1,1)\n",
    "date1 = datetime.datetime(2007,1,31)\n",
    "tidegauge = coast.TIDEGAUGE(fn_tidegauge, date_start = date0, date_end = date1)\n",
    "tidegauge.dataset"
   ]
  },
  {
   "cell_type": "markdown",
   "metadata": {},
   "source": [
    "TIDEGAUGE has ready made quick plotting routines for viewing time series and tide gauge location. To look at the tide gauge location:"
   ]
  },
  {
   "cell_type": "code",
   "execution_count": null,
   "metadata": {},
   "outputs": [],
   "source": [
    "fig, ax = tidegauge.plot_on_map()"
   ]
  },
  {
   "cell_type": "markdown",
   "metadata": {},
   "source": [
    "Or to look at a time series of the `sea_level` variable:"
   ]
  },
  {
   "cell_type": "code",
   "execution_count": null,
   "metadata": {},
   "outputs": [],
   "source": [
    "tidegauge.plot_timeseries('sea_level')"
   ]
  },
  {
   "cell_type": "markdown",
   "metadata": {},
   "source": [
    "We can resample this data to 1 hour using an averaging window and apply a Doodson-x0 filter to remove some of the tides:"
   ]
  },
  {
   "cell_type": "code",
   "execution_count": null,
   "metadata": {},
   "outputs": [],
   "source": [
    "# Resample data\n",
    "tidegauge.resample_mean('sea_level','1H')\n",
    "\n",
    "# Apply Doodson x0 filter\n",
    "tidegauge.apply_doodson_x0_filter('sea_level_1H')"
   ]
  },
  {
   "cell_type": "markdown",
   "metadata": {},
   "source": [
    "The `resample_mean()` routine created a new variable inside `tidegauge` called `sea_level_1H`, which we then pass to `apply_doodson_x0_filter()`. This then creates a new variable called `sea_level_1H_dx0`. These can now be seen:"
   ]
  },
  {
   "cell_type": "code",
   "execution_count": null,
   "metadata": {},
   "outputs": [],
   "source": [
    "tidegauge.dataset"
   ]
  },
  {
   "cell_type": "markdown",
   "metadata": {},
   "source": [
    "And we can plot all three variables up using `plot_timeseries()`:"
   ]
  },
  {
   "cell_type": "code",
   "execution_count": null,
   "metadata": {},
   "outputs": [],
   "source": [
    "tidegauge.plot_timeseries(['sea_level', 'sea_level_1H', 'sea_level_1H_dx0'])"
   ]
  },
  {
   "cell_type": "markdown",
   "metadata": {},
   "source": [
    "Each `TIDEGAUGE` object only holds data for a single tidegauge. There is some functionality for dealing with multiple gauges in COAsT. To load multiple GESLA tidegauge files, we use the static method `create_multiple_tidegauge()`. This routine takes a list of files or a wildcard string and loads them all into a list of `TIDEGAUGE` objects."
   ]
  },
  {
   "cell_type": "code",
   "execution_count": null,
   "metadata": {},
   "outputs": [],
   "source": [
    "date0 = datetime.datetime(2007,1,10)\n",
    "date1 = datetime.datetime(2007,1,12)\n",
    "tidegauge_list = coast.TIDEGAUGE.create_multiple_tidegauge(fn_tidegauge_mult,\n",
    "                                                            date0,date1)"
   ]
  },
  {
   "cell_type": "markdown",
   "metadata": {},
   "source": [
    "Now that we have tidegauge_list, we can plot the locations of all tide gauges as follows:"
   ]
  },
  {
   "cell_type": "code",
   "execution_count": null,
   "metadata": {},
   "outputs": [],
   "source": [
    "fig, ax = coast.TIDEGAUGE.plot_on_map_multiple(tidegauge_list)"
   ]
  },
  {
   "cell_type": "markdown",
   "metadata": {},
   "source": [
    "## Model Comparison\n",
    "COAsT contains some functionality for interpolating model data and comparing to observations.\n",
    "\n",
    "Let's load in the NEMO data we defined above:"
   ]
  },
  {
   "cell_type": "code",
   "execution_count": null,
   "metadata": {},
   "outputs": [],
   "source": [
    "nemo_t = coast.NEMO(fn_nemo_dat, fn_nemo_dom, grid_ref='t-grid', chunks={})"
   ]
  },
  {
   "cell_type": "markdown",
   "metadata": {},
   "source": [
    "Before comparing our observations to the model, we will interpolate a model variable to the same time and geographical space as the tidegauge. This is done using the `obs_operator()` method. At the moment, this finds the nearest grid cell to each observation and interpolates in time using any `scipy` interpolation method."
   ]
  },
  {
   "cell_type": "code",
   "execution_count": null,
   "metadata": {},
   "outputs": [],
   "source": [
    "tidegauge.obs_operator(nemo_t, mod_var_name='ssh', time_interp='nearest')\n",
    "tidegauge.dataset"
   ]
  },
  {
   "cell_type": "markdown",
   "metadata": {},
   "source": [
    "And similarly for altimetry:"
   ]
  },
  {
   "cell_type": "code",
   "execution_count": null,
   "metadata": {},
   "outputs": [],
   "source": [
    "altimetry.obs_operator(nemo_t, mod_var_name = 'ssh', time_interp = 'nearest')\n",
    "altimetry.dataset"
   ]
  },
  {
   "cell_type": "markdown",
   "metadata": {},
   "source": [
    "Doing this has created a new interpolated variable called interp_ssh and saved it back into our TIDEGAUGE object. Take a look at tidegauge.dataset to see for yourself.\n",
    "\n",
    "Next we will compare this interpolated variable to an observed variable using some basic metrics. The basic_stats() routine can be used for this, which calculates some simple metrics including differences, RMSE and correlations. NOTE: This may not be a wise choice of variables."
   ]
  },
  {
   "cell_type": "code",
   "execution_count": null,
   "metadata": {},
   "outputs": [],
   "source": [
    "altimetry_stats = altimetry.basic_stats('interp_ssh', 'sla_filtered')\n",
    "altimetry_stats.dataset"
   ]
  },
  {
   "cell_type": "markdown",
   "metadata": {},
   "source": [
    "Take a look inside `altimetry_stats.dataset` to see all of the new variables. When using `basic stats`, the returned object is also an `TIDEGAUGE` object, so all of the same methods can be applied. Alternatively, if you want to save the new metrics to the original `TIDEGAUGE` object, set `create_new_object = False`.\n",
    "\n",
    "Now we will do a more complex comparison using the Continuous Ranked Probability Score (CRPS). For this, we need to hand over the model object, a model variable and an observed variable. We also give it a neighbourhood radius in km (nh_radius)."
   ]
  },
  {
   "cell_type": "code",
   "execution_count": null,
   "metadata": {},
   "outputs": [],
   "source": [
    "crps = altimetry.crps(nemo_t, model_var_name = 'ssh', obs_var_name = 'sla_filtered', nh_radius = 25)"
   ]
  },
  {
   "cell_type": "markdown",
   "metadata": {},
   "source": [
    "Again, take a look inside crps.dataset to see some new variables. Similarly to basic_stats, create_new_object can be set to false to save output to the original tidegauge object."
   ]
  },
  {
   "cell_type": "code",
   "execution_count": null,
   "metadata": {},
   "outputs": [],
   "source": [
    "crps.dataset"
   ]
  },
  {
   "cell_type": "markdown",
   "metadata": {},
   "source": [
    "This can be treated as the same class as the original observation object, so in this case `ALTIMETRY`. So we can do some plotting using `quick_plot()`:"
   ]
  },
  {
   "cell_type": "code",
   "execution_count": null,
   "metadata": {},
   "outputs": [],
   "source": [
    "crps.quick_plot('crps_contains_land')"
   ]
  },
  {
   "cell_type": "markdown",
   "metadata": {},
   "source": [
    "You can use numpy to get an average CRPS over the domain:"
   ]
  },
  {
   "cell_type": "code",
   "execution_count": null,
   "metadata": {},
   "outputs": [],
   "source": [
    "import numpy as np\n",
    "np.nanmean( crps.dataset.crps )"
   ]
  },
  {
   "cell_type": "code",
   "execution_count": null,
   "metadata": {},
   "outputs": [],
   "source": []
  }
 ],
 "metadata": {
  "kernelspec": {
   "display_name": "Python 3",
   "language": "python",
   "name": "python3"
  },
  "language_info": {
   "codemirror_mode": {
    "name": "ipython",
    "version": 3
   },
   "file_extension": ".py",
   "mimetype": "text/x-python",
   "name": "python",
   "nbconvert_exporter": "python",
   "pygments_lexer": "ipython3",
   "version": "3.8.6"
  }
 },
 "nbformat": 4,
 "nbformat_minor": 4
}
