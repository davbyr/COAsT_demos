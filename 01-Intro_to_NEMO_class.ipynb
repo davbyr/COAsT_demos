{
 "cells": [
  {
   "cell_type": "markdown",
   "metadata": {},
   "source": [
    "This script is designed to be a brief introduction to the NEMO class including:\n",
    "\n",
    "    1. Creation of a NEMO object\n",
    "    2. Loading data into the NEMO object.\n",
    "    3. Combining NEMO output and NEMO domain data.\n",
    "    4. Interrogating the NEMO object.\n",
    "    5. Basic manipulation ans subsetting\n",
    "    6. Looking at the data with matplotlib\n",
    "\n",
    "Up to date as of: 26/11/2020"
   ]
  },
  {
   "cell_type": "markdown",
   "metadata": {},
   "source": [
    "### Loading and Interrogating\n",
    "Begin by importing COAsT and define some file paths for NEMO output data and a NEMO domain"
   ]
  },
  {
   "cell_type": "code",
   "execution_count": null,
   "metadata": {},
   "outputs": [],
   "source": [
    "import coast\n",
    "import matplotlib.pyplot as plt\n",
    "import datetime\n",
    "import numpy as np\n",
    "\n",
    "fn_nemo_dat = './example_files/COAsT_example_NEMO_data.nc'\n",
    "fn_nemo_dom = './example_files/COAsT_example_NEMO_domain.nc'"
   ]
  },
  {
   "cell_type": "markdown",
   "metadata": {},
   "source": [
    "We can create a new NEMO object by simple calling ```coast.NEMO()```. By passing this a NEMO data file and NEMO domain file, COAsT will combine the two into a single xarray dataset within the NEMO object. Each individual NEMO object should be for a specified NEMO grid reference, which is also passed as an argument. By passing `chunks = {}`, we switch on the Dask library."
   ]
  },
  {
   "cell_type": "code",
   "execution_count": null,
   "metadata": {},
   "outputs": [],
   "source": [
    "nemo_t = coast.NEMO(fn_data = fn_nemo_dat, fn_domain = fn_nemo_dom, grid_ref='t-grid', chunks = {})"
   ]
  },
  {
   "cell_type": "markdown",
   "metadata": {},
   "source": [
    "Our new NEMO object `nemo_t` contains a variable called `dataset`, which holds information on the two files we passed. Let's have a look at this:"
   ]
  },
  {
   "cell_type": "code",
   "execution_count": null,
   "metadata": {},
   "outputs": [],
   "source": [
    "nemo_t.dataset"
   ]
  },
  {
   "cell_type": "markdown",
   "metadata": {},
   "source": [
    "This is an xarray dataset, which has all the information on netCDF style structures. You can see dimensions, coordinates and data variables. At the moment, none of the actual data is loaded to memory and will remain that way until it needs to be accessed. \n",
    "\n",
    "Along with temperature (which has been renamed from votemper) a number of other things have happen under the hood:\n",
    "\n",
    "    1. The dimensions have been renamed to t_dim, x_dim, y_dim, z_dim\n",
    "    2. The coordinates have been renamed to time, longitude, latitude and depth_0. These are the coordinates for this grid (the t-grid). Also depth_0 has been calculated as the 3D depth array at time zero.\n",
    "    3. The variables e1, e2 and e3_0 have been created. These are the metrics for the t-grid in the x-dim, y-dim and z_dim (at time zero) directions.\n",
    "\n",
    "So we see that the NEMO class has standardised some variable names and created an object based on this discretisation grid by combining the appropriate grid information with all the variables on that grid.\n",
    "\n",
    "We can interact with this as an xarray Dataset object. So to extract a specific variable (say temperature):"
   ]
  },
  {
   "cell_type": "code",
   "execution_count": null,
   "metadata": {},
   "outputs": [],
   "source": [
    "ssh = nemo_t.dataset.ssh\n",
    "ssh"
   ]
  },
  {
   "cell_type": "markdown",
   "metadata": {},
   "source": [
    "Or as a numpy array:"
   ]
  },
  {
   "cell_type": "code",
   "execution_count": null,
   "metadata": {},
   "outputs": [],
   "source": [
    "ssh_np = ssh.values\n",
    "ssh_np.shape"
   ]
  },
  {
   "cell_type": "markdown",
   "metadata": {},
   "source": [
    "Then lets plot up a single time snapshot of ssh using matplotlib:"
   ]
  },
  {
   "cell_type": "code",
   "execution_count": null,
   "metadata": {},
   "outputs": [],
   "source": [
    "plt.pcolormesh(nemo_t.dataset.longitude, nemo_t.dataset.latitude, nemo_t.dataset.ssh[0])"
   ]
  },
  {
   "cell_type": "markdown",
   "metadata": {},
   "source": [
    "### Some Manipulation\n",
    "There are currently some basic subsetting routines for NEMO objects, to cut out specified regions of data. Fundamentally, this can be done using xarray's `isel` or `sel` routines to index the data. In this case, the NEMO object will pass arguments straight through to `xarray.isel`. \n",
    "\n",
    "Lets get the indices of all model points within 111km km of (5W, 55N):"
   ]
  },
  {
   "cell_type": "code",
   "execution_count": null,
   "metadata": {},
   "outputs": [],
   "source": [
    "ind_y, ind_x = nemo_t.subset_indices_by_distance(centre_lon=-5, centre_lat=55, radius=111)\n",
    "ind_x.shape"
   ]
  },
  {
   "cell_type": "markdown",
   "metadata": {},
   "source": [
    "Now create a new, smaller subsetted NEMO object by passing those indices to isel. "
   ]
  },
  {
   "cell_type": "code",
   "execution_count": null,
   "metadata": {},
   "outputs": [],
   "source": [
    "nemo_t_subset = nemo_t.isel(x_dim=ind_x, y_dim=ind_y)\n",
    "nemo_t_subset.dataset"
   ]
  },
  {
   "cell_type": "markdown",
   "metadata": {},
   "source": [
    "Alternatively, `xarray.isel` can be applied directly to the `xarray.Dataset` object. \n",
    "\n",
    "A longitude/latitude box of data can also be extracted using `NEMO.subset_indices()`."
   ]
  }
 ],
 "metadata": {
  "kernelspec": {
   "display_name": "Python 3",
   "language": "python",
   "name": "python3"
  },
  "language_info": {
   "codemirror_mode": {
    "name": "ipython",
    "version": 3
   },
   "file_extension": ".py",
   "mimetype": "text/x-python",
   "name": "python",
   "nbconvert_exporter": "python",
   "pygments_lexer": "ipython3",
   "version": "3.8.6"
  }
 },
 "nbformat": 4,
 "nbformat_minor": 4
}
